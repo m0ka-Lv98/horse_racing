{
 "cells": [
  {
   "cell_type": "code",
   "execution_count": 40,
   "id": "ff25649b",
   "metadata": {},
   "outputs": [
    {
     "name": "stdout",
     "output_type": "stream",
     "text": [
      "tensor([[  0,   2,   2,  ...,  86,  86,   1],\n",
      "        [  0,   2,   2,  ...,  68,  68,   1],\n",
      "        [  0,   2,   2,  ..., 107, 107,   1],\n",
      "        ...,\n",
      "        [  0,  14,  14,  ...,  12,  12,   1],\n",
      "        [  0,  14,  14,  ...,  21,  21,   1],\n",
      "        [  0,  14,  14,  ...,  38,  38,   1]]) torch.Size([10000, 62])\n",
      "tensor([[  0,   2,   2,  ...,  50,  86,   1],\n",
      "        [  0,   2,   2,  ..., 109,  68,   1],\n",
      "        [  0,   2,   2,  ...,  50, 107,   1],\n",
      "        ...,\n",
      "        [  0,  14,  75,  ...,  56,  12,   1],\n",
      "        [  0,  14,  75,  ..., 123,  21,   1],\n",
      "        [  0,  14,  76,  ...,  89,  38,   1]]) torch.Size([10000, 32])\n",
      "tensor(0) tensor(127)\n"
     ]
    }
   ],
   "source": [
    "import math\n",
    "import numpy as np\n",
    "import pytorch_lightning as pl\n",
    "import torch\n",
    "import torch.nn as nn\n",
    "import torch.nn.functional as F\n",
    "from torchmetrics import Accuracy\n",
    "\n",
    "N = 10000\n",
    "S = 32  # target sequence length. input sequence will be twice as long\n",
    "C = 128  # number of \"classes\", including 0, the \"start token\", and 1, the \"end token\"\n",
    "Y = (torch.rand((N * 10, S - 2)) * (C - 2)).long() + 2  # Only generate ints in (2, 99) range\n",
    "# Make sure we only have unique rows\n",
    "Y = torch.tensor(np.unique(Y, axis=0)[:N])\n",
    "X = torch.repeat_interleave(Y, 2, dim=1)\n",
    "# Add special 0 \"start\" and 1 \"end\" tokens to beginning and end\n",
    "Y = torch.cat([torch.zeros((N, 1)), Y, torch.ones((N, 1))], dim=1).long()\n",
    "X = torch.cat([torch.zeros((N, 1)), X, torch.ones((N, 1))], dim=1).long()\n",
    "# Look at the data\n",
    "print(X, X.shape)\n",
    "print(Y, Y.shape)\n",
    "print(Y.min(), Y.max())"
   ]
  },
  {
   "cell_type": "code",
   "execution_count": 41,
   "id": "e3d411e4",
   "metadata": {},
   "outputs": [
    {
     "data": {
      "text/plain": [
       "(tensor([[  0,   9,   9,  ...,  85,  85,   1],\n",
       "         [  0,   9,   9,  ...,  44,  44,   1],\n",
       "         [  0,   5,   5,  ..., 112, 112,   1],\n",
       "         ...,\n",
       "         [  0,  14,  14,  ..., 112, 112,   1],\n",
       "         [  0,  10,  10,  ...,  92,  92,   1],\n",
       "         [  0,   7,   7,  ...,  36,  36,   1]]),\n",
       " tensor([[  0,   9,  96,  ..., 126,  85,   1],\n",
       "         [  0,   9,  47,  ..., 119,  44,   1],\n",
       "         [  0,   5,  65,  ...,  24, 112,   1],\n",
       "         ...,\n",
       "         [  0,  14,  58,  ...,  19, 112,   1],\n",
       "         [  0,  10,  42,  ...,  49,  92,   1],\n",
       "         [  0,   7,  23,  ..., 107,  36,   1]]))"
      ]
     },
     "execution_count": 41,
     "metadata": {},
     "output_type": "execute_result"
    }
   ],
   "source": [
    "# Wrap data in the simplest possible way to enable PyTorch data fetching\n",
    "# https://pytorch.org/docs/stable/data.html\n",
    "BATCH_SIZE = 128\n",
    "TRAIN_FRAC = 0.8\n",
    "dataset = list(zip(X, Y))  # This fulfills the pytorch.utils.data.Dataset interface\n",
    "# Split into train and val\n",
    "num_train = int(N * TRAIN_FRAC)\n",
    "num_val = N - num_train\n",
    "data_train, data_val = torch.utils.data.random_split(dataset, (num_train, num_val))\n",
    "dataloader_train = torch.utils.data.DataLoader(data_train, batch_size=BATCH_SIZE)\n",
    "dataloader_val = torch.utils.data.DataLoader(data_val, batch_size=BATCH_SIZE)\n",
    "# Sample batch\n",
    "x, y = next(iter(dataloader_train))\n",
    "x, y"
   ]
  },
  {
   "cell_type": "code",
   "execution_count": 44,
   "id": "6f3b162e",
   "metadata": {},
   "outputs": [],
   "source": [
    "class PositionalEncoding(nn.Module):\n",
    "    \"\"\"\n",
    "    Classic Attention-is-all-you-need positional encoding.\n",
    "    From PyTorch docs.\n",
    "    \"\"\"\n",
    "\n",
    "    def __init__(self, d_model, dropout=0.1, max_len=5000):\n",
    "        super(PositionalEncoding, self).__init__()\n",
    "        self.dropout = nn.Dropout(p=dropout)\n",
    "\n",
    "        pe = torch.zeros(max_len, d_model)\n",
    "        position = torch.arange(0, max_len, dtype=torch.float).unsqueeze(1)\n",
    "        div_term = torch.exp(torch.arange(0, d_model, 2).float() * (-math.log(10000.0) / d_model))\n",
    "        pe[:, 0::2] = torch.sin(position * div_term)\n",
    "        pe[:, 1::2] = torch.cos(position * div_term)\n",
    "        pe = pe.unsqueeze(0).transpose(0, 1)\n",
    "        self.register_buffer('pe', pe)\n",
    "\n",
    "    def forward(self, x):\n",
    "        x = x + self.pe[:x.size(0), :]\n",
    "        return self.dropout(x)\n",
    "\n",
    "\n",
    "def generate_square_subsequent_mask(size: int):\n",
    "    \"\"\"Generate a triangular (size, size) mask. From PyTorch docs.\"\"\"\n",
    "    mask = (torch.triu(torch.ones(size, size)) == 1).transpose(0, 1)\n",
    "    mask = mask.float().masked_fill(mask == 0, float('-inf')).masked_fill(mask == 1, float(0.0))\n",
    "    return mask\n",
    "\n",
    "class Transformer(nn.Module):\n",
    "    \"\"\"\n",
    "    Classic Transformer that both encodes and decodes.\n",
    "    \n",
    "    Prediction-time inference is done greedily.\n",
    "    NOTE: start token is hard-coded to be 0, end token to be 1. If changing, update predict() accordingly.\n",
    "    \"\"\"\n",
    "\n",
    "    def __init__(self, num_classes: int, max_output_length: int, dim: int = 128):\n",
    "        super().__init__()\n",
    "\n",
    "        # Parameters\n",
    "        self.dim = dim\n",
    "        self.max_output_length = max_output_length\n",
    "        nhead = 4\n",
    "        num_layers = 4\n",
    "        dim_feedforward = dim\n",
    "\n",
    "        # Encoder part\n",
    "        self.embedding = nn.Embedding(num_classes, dim)\n",
    "        self.pos_encoder = PositionalEncoding(d_model=self.dim)\n",
    "        self.transformer_encoder = nn.TransformerEncoder(\n",
    "            encoder_layer=nn.TransformerEncoderLayer(d_model=self.dim, nhead=nhead, dim_feedforward=dim_feedforward),\n",
    "            num_layers=num_layers\n",
    "        )\n",
    "\n",
    "        # Decoder part\n",
    "        self.y_mask = generate_square_subsequent_mask(self.max_output_length)\n",
    "        self.transformer_decoder = nn.TransformerDecoder(\n",
    "            decoder_layer=nn.TransformerDecoderLayer(d_model=self.dim, nhead=nhead, dim_feedforward=dim_feedforward),\n",
    "            num_layers=num_layers\n",
    "        )\n",
    "        self.fc = nn.Linear(self.dim, num_classes)\n",
    "\n",
    "        # It is empirically important to initialize weights properly\n",
    "        self.init_weights()\n",
    "    \n",
    "    def init_weights(self):\n",
    "        initrange = 0.1\n",
    "        self.embedding.weight.data.uniform_(-initrange, initrange)\n",
    "        self.fc.bias.data.zero_()\n",
    "        self.fc.weight.data.uniform_(-initrange, initrange)\n",
    "      \n",
    "    def forward(self, x: torch.Tensor, y: torch.Tensor) -> torch.Tensor:\n",
    "        \"\"\"\n",
    "        Input\n",
    "            x: (B, Sx) with elements in (0, C) where C is num_classes\n",
    "            y: (B, Sy) with elements in (0, C) where C is num_classes\n",
    "        Output\n",
    "            (B, C, Sy) logits\n",
    "        \"\"\"\n",
    "        encoded_x = self.encode(x)  # (Sx, B, E)\n",
    "        output = self.decode(y, encoded_x)  # (Sy, B, C)\n",
    "        return output.permute(1, 2, 0)  # (B, C, Sy)\n",
    "\n",
    "    def encode(self, x: torch.Tensor) -> torch.Tensor:\n",
    "        \"\"\"\n",
    "        Input\n",
    "            x: (B, Sx) with elements in (0, C) where C is num_classes\n",
    "        Output\n",
    "            (Sx, B, E) embedding\n",
    "        \"\"\"\n",
    "        x = x.permute(1, 0)  # (Sx, B, E)\n",
    "        x = self.embedding(x) * math.sqrt(self.dim)  # (Sx, B, E)\n",
    "        x = self.pos_encoder(x)  # (Sx, B, E)\n",
    "        x = self.transformer_encoder(x)  # (Sx, B, E)\n",
    "        return x\n",
    "\n",
    "    def decode(self, y: torch.Tensor, encoded_x: torch.Tensor) -> torch.Tensor:\n",
    "        \"\"\"\n",
    "        Input\n",
    "            encoded_x: (Sx, B, E)\n",
    "            y: (B, Sy) with elements in (0, C) where C is num_classes\n",
    "        Output\n",
    "            (Sy, B, C) logits\n",
    "        \"\"\"\n",
    "        y = y.permute(1, 0)  # (Sy, B)\n",
    "        y = self.embedding(y) * math.sqrt(self.dim)  # (Sy, B, E)\n",
    "        y = self.pos_encoder(y)  # (Sy, B, E)\n",
    "        Sy = y.shape[0]\n",
    "        y_mask = self.y_mask[:Sy, :Sy].type_as(encoded_x)  # (Sy, Sy)\n",
    "        output = self.transformer_decoder(y, encoded_x, y_mask)  # (Sy, B, E)\n",
    "        output = self.fc(output)  # (Sy, B, C)\n",
    "        return output\n",
    "\n",
    "    def predict(self, x: torch.Tensor) -> torch.Tensor:\n",
    "        \"\"\"\n",
    "        Method to use at inference time. Predict y from x one token at a time. This method is greedy\n",
    "        decoding. Beam search can be used instead for a potential accuracy boost.\n",
    "        Input\n",
    "            x: (B, Sx) with elements in (0, C) where C is num_classes\n",
    "        Output\n",
    "            (B, C, Sy) logits\n",
    "        \"\"\"\n",
    "        encoded_x = self.encode(x)\n",
    "        \n",
    "        output_tokens = (torch.ones((x.shape[0], self.max_output_length))).type_as(x).long() # (B, max_length)\n",
    "        output_tokens[:, 0] = 0  # Set start token\n",
    "        for Sy in range(1, self.max_output_length):\n",
    "            y = output_tokens[:, :Sy]  # (B, Sy)\n",
    "            output = self.decode(y, encoded_x)  # (Sy, B, C)\n",
    "            output = torch.argmax(output, dim=-1)  # (Sy, B)\n",
    "            output_tokens[:, Sy] = output[-1:]  # Set the last output token\n",
    "        return output_tokens"
   ]
  },
  {
   "cell_type": "code",
   "execution_count": 45,
   "id": "7d107d3e",
   "metadata": {},
   "outputs": [
    {
     "name": "stdout",
     "output_type": "stream",
     "text": [
      "torch.Size([128, 62]) torch.Size([128, 32]) torch.Size([128, 128, 31])\n",
      "tensor([[  0,   9,   9,  96,  96,  17,  17,  27,  27,  57,  57,  66,  66,   2,\n",
      "           2,  51,  51,   8,   8,  73,  73,  97,  97,  87,  87,  47,  47,  18,\n",
      "          18, 127, 127,  41,  41,  88,  88,  55,  55,  39,  39,  96,  96,  16,\n",
      "          16,  29,  29,   7,   7,  55,  55, 110, 110,  27,  27,  81,  81,  83,\n",
      "          83, 126, 126,  85,  85,   1]])\n",
      "tensor([[  0,  76,  94, 102, 102,  36,  94,  15,  94,  24,  65,  79,  15,  65,\n",
      "         102,  27,  76,  15,  37,  76,  76,  65,  27,  36,  15,  65,  94,  76,\n",
      "          27, 102,  36,  76]])\n"
     ]
    }
   ],
   "source": [
    "model = Transformer(num_classes=C, max_output_length=y.shape[1])\n",
    "logits = model(x, y[:, :-1])\n",
    "print(x.shape, y.shape, logits.shape)\n",
    "print(x[0:1])\n",
    "print(model.predict(x[0:1]))"
   ]
  },
  {
   "cell_type": "code",
   "execution_count": 32,
   "id": "e93381f7",
   "metadata": {},
   "outputs": [
    {
     "name": "stderr",
     "output_type": "stream",
     "text": [
      "/home/mil/masaoka/.pyenv/versions/anaconda3-2019.10/envs/keiba/lib/python3.7/site-packages/pytorch_lightning/trainer/connectors/callback_connector.py:91: LightningDeprecationWarning: Setting `Trainer(progress_bar_refresh_rate=79)` is deprecated in v1.5 and will be removed in v1.7. Please pass `pytorch_lightning.callbacks.progress.TQDMProgressBar` with `refresh_rate` directly to the Trainer's `callbacks` argument instead. Or, to disable the progress bar pass `enable_progress_bar = False` to the Trainer.\n",
      "  f\"Setting `Trainer(progress_bar_refresh_rate={progress_bar_refresh_rate})` is deprecated in v1.5 and\"\n",
      "GPU available: True, used: True\n",
      "TPU available: False, using: 0 TPU cores\n",
      "IPU available: False, using: 0 IPUs\n",
      "LOCAL_RANK: 0 - CUDA_VISIBLE_DEVICES: [0,1,2,3,4,5,6,7]\n",
      "Missing logger folder: /home/mil/masaoka/master_thesis/keiba/lightning_logs\n",
      "\n",
      "  | Name    | Type             | Params\n",
      "---------------------------------------------\n",
      "0 | model   | Transformer      | 1.1 M \n",
      "1 | loss    | CrossEntropyLoss | 0     \n",
      "2 | val_acc | Accuracy         | 0     \n",
      "---------------------------------------------\n",
      "1.1 M     Trainable params\n",
      "0         Non-trainable params\n",
      "1.1 M     Total params\n",
      "4.379     Total estimated model params size (MB)\n"
     ]
    },
    {
     "data": {
      "application/vnd.jupyter.widget-view+json": {
       "model_id": "",
       "version_major": 2,
       "version_minor": 0
      },
      "text/plain": [
       "Validation sanity check: 0it [00:00, ?it/s]"
      ]
     },
     "metadata": {},
     "output_type": "display_data"
    },
    {
     "name": "stderr",
     "output_type": "stream",
     "text": [
      "/home/mil/masaoka/.pyenv/versions/anaconda3-2019.10/envs/keiba/lib/python3.7/site-packages/pytorch_lightning/trainer/data_loading.py:117: UserWarning: The dataloader, val_dataloader 0, does not have many workers which may be a bottleneck. Consider increasing the value of the `num_workers` argument` (try 256 which is the number of cpus on this machine) in the `DataLoader` init to improve performance.\n",
      "  f\"The dataloader, {name}, does not have many workers which may be a bottleneck.\"\n",
      "/home/mil/masaoka/.pyenv/versions/anaconda3-2019.10/envs/keiba/lib/python3.7/site-packages/pytorch_lightning/trainer/data_loading.py:117: UserWarning: The dataloader, train_dataloader, does not have many workers which may be a bottleneck. Consider increasing the value of the `num_workers` argument` (try 256 which is the number of cpus on this machine) in the `DataLoader` init to improve performance.\n",
      "  f\"The dataloader, {name}, does not have many workers which may be a bottleneck.\"\n"
     ]
    },
    {
     "data": {
      "application/vnd.jupyter.widget-view+json": {
       "model_id": "255515d5aa5e4a5ba6e3fcea5c86cd7b",
       "version_major": 2,
       "version_minor": 0
      },
      "text/plain": [
       "Training: 0it [00:00, ?it/s]"
      ]
     },
     "metadata": {},
     "output_type": "display_data"
    },
    {
     "data": {
      "application/vnd.jupyter.widget-view+json": {
       "model_id": "",
       "version_major": 2,
       "version_minor": 0
      },
      "text/plain": [
       "Validating: 0it [00:00, ?it/s]"
      ]
     },
     "metadata": {},
     "output_type": "display_data"
    },
    {
     "data": {
      "application/vnd.jupyter.widget-view+json": {
       "model_id": "",
       "version_major": 2,
       "version_minor": 0
      },
      "text/plain": [
       "Validating: 0it [00:00, ?it/s]"
      ]
     },
     "metadata": {},
     "output_type": "display_data"
    },
    {
     "data": {
      "application/vnd.jupyter.widget-view+json": {
       "model_id": "",
       "version_major": 2,
       "version_minor": 0
      },
      "text/plain": [
       "Validating: 0it [00:00, ?it/s]"
      ]
     },
     "metadata": {},
     "output_type": "display_data"
    },
    {
     "data": {
      "application/vnd.jupyter.widget-view+json": {
       "model_id": "",
       "version_major": 2,
       "version_minor": 0
      },
      "text/plain": [
       "Validating: 0it [00:00, ?it/s]"
      ]
     },
     "metadata": {},
     "output_type": "display_data"
    },
    {
     "data": {
      "application/vnd.jupyter.widget-view+json": {
       "model_id": "",
       "version_major": 2,
       "version_minor": 0
      },
      "text/plain": [
       "Validating: 0it [00:00, ?it/s]"
      ]
     },
     "metadata": {},
     "output_type": "display_data"
    }
   ],
   "source": [
    "class LitModel(pl.LightningModule):\n",
    "    \"\"\"Simple PyTorch-Lightning model to train our Transformer.\"\"\"\n",
    "\n",
    "    def __init__(self, model):\n",
    "        super().__init__()\n",
    "        self.model = model\n",
    "        self.loss = nn.CrossEntropyLoss()\n",
    "        self.val_acc = Accuracy()\n",
    "\n",
    "    def training_step(self, batch, batch_ind):\n",
    "        x, y = batch\n",
    "        # Teacher forcing: model gets input up to the last character,\n",
    "        # while ground truth is from the second character onward.\n",
    "        logits = self.model(x, y[:, :-1])\n",
    "        loss = self.loss(logits, y[:, 1:])\n",
    "        self.log(\"train_loss\", loss)\n",
    "        return loss\n",
    "\n",
    "    def validation_step(self, batch, batch_ind):\n",
    "        x, y = batch\n",
    "        logits = self.model(x, y[:, :-1])\n",
    "        loss = self.loss(logits, y[:, 1:])\n",
    "        self.log(\"val_loss\", loss, prog_bar=True)\n",
    "        pred = self.model.predict(x)\n",
    "        self.val_acc(pred, y)\n",
    "        self.log(\"val_acc\", self.val_acc, on_step=False, on_epoch=True, prog_bar=True)\n",
    "    \n",
    "    def configure_optimizers(self):\n",
    "        return torch.optim.Adam(self.parameters())\n",
    "\n",
    "\n",
    "model = Transformer(num_classes=C, max_output_length=y.shape[1])\n",
    "lit_model = LitModel(model)\n",
    "early_stop_callback = pl.callbacks.EarlyStopping(monitor='val_loss')\n",
    "trainer = pl.Trainer(max_epochs=5, gpus=[0], callbacks=[early_stop_callback], progress_bar_refresh_rate=79)\n",
    "trainer.fit(lit_model, dataloader_train, dataloader_val)"
   ]
  },
  {
   "cell_type": "code",
   "execution_count": 33,
   "id": "2a3b95c1",
   "metadata": {},
   "outputs": [
    {
     "name": "stdout",
     "output_type": "stream",
     "text": [
      "Input: tensor([[  0,   2,   2, 100, 100, 121, 121,  12,  12, 115, 115, 106, 106,  84,\n",
      "          84,  71,  71,  44,  44,   5,   5,  43,  43,  63,  63,  17,  17,  98,\n",
      "          98,  35,  35, 116, 116,  10,  10,   6,   6,  64,  64,  13,  13, 115,\n",
      "         115,  78,  78,  95,  95,  28,  28,  56,  56,  47,  47,   8,   8, 115,\n",
      "         115,  59,  59,  53,  53,   1]])\n",
      "Truth/Pred:\n",
      "tensor([[  0,   2, 100, 121,  12, 115, 106,  84,  71,  44,   5,  43,  63,  17,\n",
      "          98,  35, 116,  10,   6,  64,  13, 115,  78,  95,  28,  56,  47,   8,\n",
      "         115,  59,  53,   1],\n",
      "        [  0,   2, 100, 121,  12, 115, 106,  84,  71,  44,   5,  43,  63,  17,\n",
      "          98,  35, 116,  10,   6,  64,  13, 115,  78,  95,  28,  56,  47,   8,\n",
      "         115,  59,  53,   1]])\n"
     ]
    }
   ],
   "source": [
    "x, y = next(iter(dataloader_val))\n",
    "print('Input:', x[:1])\n",
    "pred = lit_model.model.predict(x[:1])\n",
    "print('Truth/Pred:')\n",
    "print(torch.cat((y[:1], pred)))"
   ]
  },
  {
   "cell_type": "code",
   "execution_count": null,
   "id": "ec716374",
   "metadata": {},
   "outputs": [],
   "source": []
  }
 ],
 "metadata": {
  "kernelspec": {
   "display_name": "Python 3 (ipykernel)",
   "language": "python",
   "name": "python3"
  },
  "language_info": {
   "codemirror_mode": {
    "name": "ipython",
    "version": 3
   },
   "file_extension": ".py",
   "mimetype": "text/x-python",
   "name": "python",
   "nbconvert_exporter": "python",
   "pygments_lexer": "ipython3",
   "version": "3.7.11"
  }
 },
 "nbformat": 4,
 "nbformat_minor": 5
}
